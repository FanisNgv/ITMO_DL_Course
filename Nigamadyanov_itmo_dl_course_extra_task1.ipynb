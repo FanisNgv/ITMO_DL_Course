{
 "cells": [
  {
   "cell_type": "code",
   "execution_count": 1,
   "id": "686d29bb-e21c-416d-b387-344e0816bb41",
   "metadata": {},
   "outputs": [],
   "source": [
    "import os\n",
    "import random\n",
    "import numpy as np\n",
    "import pandas as pd\n",
    "\n",
    "import torch\n",
    "# Модуль для построения нейросетей\n",
    "import torch.nn as nn\n",
    "# Все, что связано с функциями (функции потерь, активации и пр.)\n",
    "import torch.nn.functional as F\n",
    "# Оптимизаторы из торча достаем\n",
    "import torch.optim as optim\n",
    "# DataLoader позволяет загружать данные из Dataset и имеет различные функции (Shuffle, Batching, Multiprocessing)\n",
    "from torch.utils.data import DataLoader, Dataset\n",
    "\n",
    "# Красивый прогресс-бар\n",
    "from tqdm.notebook import tqdm\n",
    "\n",
    "# classification_report - сводная таблица со всеми метриками\n",
    "from sklearn.metrics import classification_report, f1_score\n",
    "from sklearn.model_selection import train_test_split\n",
    "\n",
    "# Очистка результата выполнения функции display  и отрисовки только актуального значения\n",
    "from IPython.display import clear_output\n",
    "import matplotlib.pyplot as plt\n",
    "import seaborn as sns\n",
    "\n",
    "# Установка общего стиля графиков seaborn\n",
    "sns.set_theme()"
   ]
  },
  {
   "cell_type": "markdown",
   "id": "e04f0fa0-61e5-43dc-b685-b55029209142",
   "metadata": {},
   "source": [
    "# 0. Обеспечение воспроизводимости"
   ]
  },
  {
   "cell_type": "code",
   "execution_count": 2,
   "id": "71ecbfd1-f09c-4461-b1a4-16e27fa27e39",
   "metadata": {},
   "outputs": [
    {
     "name": "stdout",
     "output_type": "stream",
     "text": [
      "Random seed set as 42\n"
     ]
    }
   ],
   "source": [
    "# Устанавливаем random_seed там, где это только возможно\n",
    "def set_seed(seed: int = 42) -> None:\n",
    "    np.random.seed(seed)\n",
    "    random.seed(seed)\n",
    "    torch.manual_seed(seed)\n",
    "    torch.cuda.manual_seed(seed)\n",
    "    torch.backends.cudnn.deterministic = True\n",
    "    torch.backends.cudnn.benchmark = False\n",
    "    print(f\"Random seed set as {seed}\")\n",
    "\n",
    "set_seed(42)"
   ]
  },
  {
   "cell_type": "markdown",
   "id": "ff3de897-805b-402b-829b-d315e15ab515",
   "metadata": {},
   "source": [
    "# 1. Загрузка датасета"
   ]
  },
  {
   "cell_type": "code",
   "execution_count": 3,
   "id": "bea8fb6d-a46f-4a51-ba65-001eeab66b59",
   "metadata": {},
   "outputs": [
    {
     "data": {
      "text/html": [
       "<div>\n",
       "<style scoped>\n",
       "    .dataframe tbody tr th:only-of-type {\n",
       "        vertical-align: middle;\n",
       "    }\n",
       "\n",
       "    .dataframe tbody tr th {\n",
       "        vertical-align: top;\n",
       "    }\n",
       "\n",
       "    .dataframe thead th {\n",
       "        text-align: right;\n",
       "    }\n",
       "</style>\n",
       "<table border=\"1\" class=\"dataframe\">\n",
       "  <thead>\n",
       "    <tr style=\"text-align: right;\">\n",
       "      <th></th>\n",
       "      <th>Temperature</th>\n",
       "      <th>Humidity</th>\n",
       "      <th>PM2.5</th>\n",
       "      <th>PM10</th>\n",
       "      <th>NO2</th>\n",
       "      <th>SO2</th>\n",
       "      <th>CO</th>\n",
       "      <th>Proximity_to_Industrial_Areas</th>\n",
       "      <th>Population_Density</th>\n",
       "      <th>air_quality</th>\n",
       "    </tr>\n",
       "  </thead>\n",
       "  <tbody>\n",
       "    <tr>\n",
       "      <th>0</th>\n",
       "      <td>29.8</td>\n",
       "      <td>59.1</td>\n",
       "      <td>5.2</td>\n",
       "      <td>17.9</td>\n",
       "      <td>18.9</td>\n",
       "      <td>9.2</td>\n",
       "      <td>1.72</td>\n",
       "      <td>6.3</td>\n",
       "      <td>319</td>\n",
       "      <td>1</td>\n",
       "    </tr>\n",
       "    <tr>\n",
       "      <th>1</th>\n",
       "      <td>28.3</td>\n",
       "      <td>75.6</td>\n",
       "      <td>2.3</td>\n",
       "      <td>12.2</td>\n",
       "      <td>30.8</td>\n",
       "      <td>9.7</td>\n",
       "      <td>1.64</td>\n",
       "      <td>6.0</td>\n",
       "      <td>611</td>\n",
       "      <td>1</td>\n",
       "    </tr>\n",
       "    <tr>\n",
       "      <th>2</th>\n",
       "      <td>23.1</td>\n",
       "      <td>74.7</td>\n",
       "      <td>26.7</td>\n",
       "      <td>33.8</td>\n",
       "      <td>24.4</td>\n",
       "      <td>12.6</td>\n",
       "      <td>1.63</td>\n",
       "      <td>5.2</td>\n",
       "      <td>619</td>\n",
       "      <td>1</td>\n",
       "    </tr>\n",
       "    <tr>\n",
       "      <th>3</th>\n",
       "      <td>27.1</td>\n",
       "      <td>39.1</td>\n",
       "      <td>6.1</td>\n",
       "      <td>6.3</td>\n",
       "      <td>13.5</td>\n",
       "      <td>5.3</td>\n",
       "      <td>1.15</td>\n",
       "      <td>11.1</td>\n",
       "      <td>551</td>\n",
       "      <td>1</td>\n",
       "    </tr>\n",
       "    <tr>\n",
       "      <th>4</th>\n",
       "      <td>26.5</td>\n",
       "      <td>70.7</td>\n",
       "      <td>6.9</td>\n",
       "      <td>16.0</td>\n",
       "      <td>21.9</td>\n",
       "      <td>5.6</td>\n",
       "      <td>1.01</td>\n",
       "      <td>12.7</td>\n",
       "      <td>303</td>\n",
       "      <td>1</td>\n",
       "    </tr>\n",
       "  </tbody>\n",
       "</table>\n",
       "</div>"
      ],
      "text/plain": [
       "   Temperature  Humidity  PM2.5  PM10   NO2   SO2    CO  \\\n",
       "0         29.8      59.1    5.2  17.9  18.9   9.2  1.72   \n",
       "1         28.3      75.6    2.3  12.2  30.8   9.7  1.64   \n",
       "2         23.1      74.7   26.7  33.8  24.4  12.6  1.63   \n",
       "3         27.1      39.1    6.1   6.3  13.5   5.3  1.15   \n",
       "4         26.5      70.7    6.9  16.0  21.9   5.6  1.01   \n",
       "\n",
       "   Proximity_to_Industrial_Areas  Population_Density  air_quality  \n",
       "0                            6.3                 319            1  \n",
       "1                            6.0                 611            1  \n",
       "2                            5.2                 619            1  \n",
       "3                           11.1                 551            1  \n",
       "4                           12.7                 303            1  "
      ]
     },
     "execution_count": 3,
     "metadata": {},
     "output_type": "execute_result"
    }
   ],
   "source": [
    "df = pd.read_csv('air_quality.csv')\n",
    "df.head()"
   ]
  },
  {
   "cell_type": "markdown",
   "id": "cd4bcfc0-d930-4756-b9aa-461128566be2",
   "metadata": {},
   "source": [
    "# 2. Подготовка данных"
   ]
  },
  {
   "cell_type": "markdown",
   "id": "40285eda-5034-41fb-8bfe-d7adeaa74b66",
   "metadata": {},
   "source": [
    "## 2.1 Разделение на TVT"
   ]
  },
  {
   "cell_type": "code",
   "execution_count": 4,
   "id": "e4431397-152d-43de-96ae-da8e1cd4dcd0",
   "metadata": {},
   "outputs": [],
   "source": [
    "# В датафрейме X убираем целевую переменную, y - наша целевая переменная\n",
    "X, y = df.drop('air_quality', axis=1), df['air_quality']\n",
    "# Делим исходный датасет на обучающую и тестовую части\n",
    "X_train, X_test, y_train, y_test = train_test_split(X, y, test_size = 0.2, random_state = 42)\n",
    "# И уже далее формируем валидационную выборку из тестовой\n",
    "X_test, X_val, y_test, y_val = train_test_split(X_test, y_test, test_size = 0.25, random_state = 42)"
   ]
  },
  {
   "cell_type": "markdown",
   "id": "9799034a-bcad-41fc-8a5d-a0b751226c03",
   "metadata": {},
   "source": [
    "## 2.2 Обертка данных"
   ]
  },
  {
   "cell_type": "code",
   "execution_count": 5,
   "id": "e25d3575-6a43-4655-82c4-d03a843da854",
   "metadata": {},
   "outputs": [],
   "source": [
    "class CustomDataset(Dataset):\n",
    "    def __init__(self, X, y):\n",
    "        # X - датафрейм, X.values - это просто массив всех значений, мы его превращаем в тензор\n",
    "        self.X = torch.Tensor(X.values)\n",
    "        # Для таргета немного по-другому, reshape(-1, 1) - минус один означает вот сколько там элементов, столькими строками и заполнить;\n",
    "        # Один - значит одна колонка\n",
    "        self.y = torch.from_numpy(y.values).reshape(-1, 1).float()\n",
    "        \n",
    "    def __len__(self):\n",
    "        # Возвращаем количество строк\n",
    "        return self.X.shape[0]\n",
    "        \n",
    "    def __getitem__(self, index):\n",
    "        # Получаем композицию (признак + таргет)\n",
    "        return (self.X[index], self.y[index])\n"
   ]
  },
  {
   "cell_type": "code",
   "execution_count": 6,
   "id": "447ca31b-dc81-42e2-90ff-e0cbcde89648",
   "metadata": {},
   "outputs": [],
   "source": [
    "train_dataset = CustomDataset(X_train, y_train)\n",
    "val_dataset = CustomDataset(X_val, y_val)\n",
    "test_dataset = CustomDataset(X_test, y_test)"
   ]
  },
  {
   "cell_type": "code",
   "execution_count": 7,
   "id": "32c2436d-330d-4921-ac69-0179616e3e99",
   "metadata": {},
   "outputs": [],
   "source": [
    "train_dataloader = DataLoader(train_dataset, batch_size=32, shuffle=True)\n",
    "# Shuffle = False для обеспечения воспроизводимости\n",
    "val_dataloader = DataLoader(val_dataset, batch_size=32, shuffle=False)\n",
    "test_dataloader = DataLoader(test_dataset, batch_size=32, shuffle=False)"
   ]
  },
  {
   "cell_type": "markdown",
   "id": "758f1204-23d7-46bc-9c57-a0dc1ce75d17",
   "metadata": {},
   "source": [
    "# 3. Реализация нейросети"
   ]
  },
  {
   "cell_type": "code",
   "execution_count": 8,
   "id": "8137a0a7-6331-4c02-8bfb-cd929a2697c4",
   "metadata": {},
   "outputs": [],
   "source": [
    "class AirQualityNN(nn.Module):\n",
    "    # num_labels - количество выходных нейронов, для данной задачи (0, 1)\n",
    "    # input_size - количество входных нейронов, входных параметров\n",
    "    # n_linear_layers - количество слоев нейросети\n",
    "    # activation - функция активации\n",
    "    \n",
    "    def __init__(self, num_labels, input_size, hidden_size, n_linear_layers=3, activation=nn.Sigmoid):\n",
    "        \n",
    "        # Надо не забыть вызвать конструктор базового класса, т.к. что-то может не проинициализироваться\n",
    "        super(AirQualityNN, self).__init__()\n",
    "        \n",
    "        # Инициализация списка слоев, изначально просто первый слой добавляем (тут же и веса инициализируются равномерным распределением!!!)\n",
    "        layers = [nn.Linear(input_size, hidden_size), activation()]\n",
    "        \n",
    "        # Далее - оставшиеся n-2 слоев, \n",
    "        for i in range(n_linear_layers - 1):\n",
    "            layers.append(nn.Linear(hidden_size, hidden_size))\n",
    "            layers.append(activation())\n",
    "            \n",
    "        # Последний слой\n",
    "        layers.append(nn.Linear(hidden_size, num_labels))\n",
    "        \n",
    "        # Последовательный контейнер для хранений нейросети в PyTorch. Последовательно передается структура слоя, а потом функция активации\n",
    "        self.layers = nn.Sequential(*layers)\n",
    "\n",
    "    # x - вход для нейросети\n",
    "    def forward(self, x):\n",
    "        \n",
    "        # На выходе (только на выходе!!!) преобразуем в [0, 1]\n",
    "        y_pred = torch.sigmoid(self.layers(x))\n",
    "        # Выдаем результаты прогноза нейросети \n",
    "        return y_pred\n",
    "        "
   ]
  },
  {
   "cell_type": "code",
   "execution_count": 9,
   "id": "d4827f01-f563-464c-a789-c2f4dc9e9348",
   "metadata": {},
   "outputs": [],
   "source": [
    "device = torch.device(\"cuda\" if torch.cuda.is_available() else \"cpu\")"
   ]
  },
  {
   "cell_type": "code",
   "execution_count": 28,
   "id": "22bc4429-6e10-421c-9117-286cb5162164",
   "metadata": {},
   "outputs": [],
   "source": [
    "# Гиперпараметры\n",
    "\n",
    "input_size = 9  # количество входных признаков (без таргета!)\n",
    "hidden_size = 20 # количество нейронов на скрытом слое\n",
    "num_labels = 1   # бинарный выход\n",
    "n_linear_layers = 3 # количество слоев\n",
    "activation = nn.ReLU  # активация\n",
    "learning_rate = 0.01 # скорость обучения\n",
    "num_epochs = 100\n",
    "batch_size = 16"
   ]
  },
  {
   "cell_type": "code",
   "execution_count": 29,
   "id": "a8ac6aef-4c52-41ab-a770-635f67f41de8",
   "metadata": {},
   "outputs": [],
   "source": [
    "# Создаем модель с нашими параметрами\n",
    "model = AirQualityNN(num_labels=num_labels, input_size=input_size, hidden_size=hidden_size, n_linear_layers=n_linear_layers, activation=activation)\n",
    "# Помещаем в наш девайс\n",
    "model = model.to(device)"
   ]
  },
  {
   "cell_type": "code",
   "execution_count": 30,
   "id": "1c03c9a5-c1bb-49ed-b499-e9838e8a7766",
   "metadata": {},
   "outputs": [],
   "source": [
    "criterion = nn.BCELoss()  # Binary Cross-Entropy Loss\n",
    "optimizer = optim.Adam(model.parameters(), lr = learning_rate) # Определяем оптимизатор"
   ]
  },
  {
   "cell_type": "markdown",
   "id": "9dca9c82-5f99-4f31-9d61-8232031111fd",
   "metadata": {},
   "source": [
    "# 4. Цикл обучения"
   ]
  },
  {
   "cell_type": "code",
   "execution_count": 31,
   "id": "4ce4bcc5-4af8-43a4-af41-70f7afb611d0",
   "metadata": {},
   "outputs": [
    {
     "data": {
      "application/vnd.jupyter.widget-view+json": {
       "model_id": "c58a1a651d954c0e8eac23dadd40f037",
       "version_major": 2,
       "version_minor": 0
      },
      "text/plain": [
       "  0%|          | 0/100 [00:00<?, ?it/s]"
      ]
     },
     "metadata": {},
     "output_type": "display_data"
    },
    {
     "name": "stdout",
     "output_type": "stream",
     "text": [
      "Epoch [1/100], Train Loss: 0.7569, Val Loss: 0.2822\n",
      "Epoch [2/100], Train Loss: 0.3236, Val Loss: 0.2721\n",
      "Epoch [3/100], Train Loss: 0.2613, Val Loss: 0.1950\n",
      "Epoch [4/100], Train Loss: 0.2523, Val Loss: 0.1879\n",
      "Epoch [5/100], Train Loss: 0.2318, Val Loss: 0.3071\n",
      "Epoch [6/100], Train Loss: 0.2154, Val Loss: 0.1673\n",
      "Epoch [7/100], Train Loss: 0.2218, Val Loss: 0.1779\n",
      "Epoch [8/100], Train Loss: 0.2251, Val Loss: 0.1636\n",
      "Epoch [9/100], Train Loss: 0.2255, Val Loss: 0.1654\n",
      "Epoch [10/100], Train Loss: 0.2058, Val Loss: 0.1816\n",
      "Epoch [11/100], Train Loss: 0.1937, Val Loss: 0.1428\n",
      "Epoch [12/100], Train Loss: 0.1924, Val Loss: 0.1551\n",
      "Epoch [13/100], Train Loss: 0.1884, Val Loss: 0.1980\n",
      "Epoch [14/100], Train Loss: 0.1861, Val Loss: 0.1753\n",
      "Epoch [15/100], Train Loss: 0.1645, Val Loss: 0.1455\n",
      "Epoch [16/100], Train Loss: 0.1744, Val Loss: 0.1372\n",
      "Epoch [17/100], Train Loss: 0.1584, Val Loss: 0.2576\n",
      "Epoch [18/100], Train Loss: 0.1778, Val Loss: 0.1202\n",
      "Epoch [19/100], Train Loss: 0.1585, Val Loss: 0.1826\n",
      "Epoch [20/100], Train Loss: 0.1656, Val Loss: 0.1610\n",
      "Epoch [21/100], Train Loss: 0.1528, Val Loss: 0.1072\n",
      "Epoch [22/100], Train Loss: 0.1581, Val Loss: 0.1168\n",
      "Epoch [23/100], Train Loss: 0.1400, Val Loss: 0.1097\n",
      "Epoch [24/100], Train Loss: 0.1509, Val Loss: 0.1143\n",
      "Epoch [25/100], Train Loss: 0.1370, Val Loss: 0.2315\n",
      "Epoch [26/100], Train Loss: 0.1462, Val Loss: 0.1056\n",
      "Epoch [27/100], Train Loss: 0.1392, Val Loss: 0.1037\n",
      "Epoch [28/100], Train Loss: 0.1462, Val Loss: 0.1231\n",
      "Epoch [29/100], Train Loss: 0.1563, Val Loss: 0.1806\n",
      "Epoch [30/100], Train Loss: 0.1432, Val Loss: 0.1095\n",
      "Epoch [31/100], Train Loss: 0.1268, Val Loss: 0.0958\n",
      "Epoch [32/100], Train Loss: 0.1132, Val Loss: 0.1052\n",
      "Epoch [33/100], Train Loss: 0.1294, Val Loss: 0.0976\n",
      "Epoch [34/100], Train Loss: 0.1204, Val Loss: 0.0967\n",
      "Epoch [35/100], Train Loss: 0.1455, Val Loss: 0.2516\n",
      "Epoch [36/100], Train Loss: 0.1295, Val Loss: 0.1336\n",
      "Epoch [37/100], Train Loss: 0.1205, Val Loss: 0.1000\n",
      "Epoch [38/100], Train Loss: 0.1305, Val Loss: 0.3167\n",
      "Epoch [39/100], Train Loss: 0.1467, Val Loss: 0.1090\n",
      "Epoch [40/100], Train Loss: 0.1237, Val Loss: 0.1248\n",
      "Epoch [41/100], Train Loss: 0.1277, Val Loss: 0.0976\n",
      "Epoch [42/100], Train Loss: 0.1209, Val Loss: 0.1927\n",
      "Epoch [43/100], Train Loss: 0.1301, Val Loss: 0.0947\n",
      "Epoch [44/100], Train Loss: 0.1133, Val Loss: 0.1549\n",
      "Epoch [45/100], Train Loss: 0.1123, Val Loss: 0.0978\n",
      "Epoch [46/100], Train Loss: 0.1207, Val Loss: 0.0995\n",
      "Epoch [47/100], Train Loss: 0.1024, Val Loss: 0.1037\n",
      "Epoch [48/100], Train Loss: 0.1044, Val Loss: 0.0907\n",
      "Epoch [49/100], Train Loss: 0.1071, Val Loss: 0.0965\n",
      "Epoch [50/100], Train Loss: 0.1180, Val Loss: 0.1277\n",
      "Epoch [51/100], Train Loss: 0.1088, Val Loss: 0.1069\n",
      "Epoch [52/100], Train Loss: 0.1096, Val Loss: 0.2250\n",
      "Epoch [53/100], Train Loss: 0.1110, Val Loss: 0.0918\n",
      "Epoch [54/100], Train Loss: 0.1043, Val Loss: 0.1242\n",
      "Epoch [55/100], Train Loss: 0.1073, Val Loss: 0.1211\n",
      "Epoch [56/100], Train Loss: 0.1056, Val Loss: 0.0990\n",
      "Epoch [57/100], Train Loss: 0.1037, Val Loss: 0.1356\n",
      "Epoch [58/100], Train Loss: 0.1082, Val Loss: 0.1050\n",
      "Epoch [59/100], Train Loss: 0.1199, Val Loss: 0.1036\n",
      "Epoch [60/100], Train Loss: 0.1053, Val Loss: 0.1545\n",
      "Epoch [61/100], Train Loss: 0.0997, Val Loss: 0.0995\n",
      "Epoch [62/100], Train Loss: 0.0997, Val Loss: 0.0967\n",
      "Epoch [63/100], Train Loss: 0.1063, Val Loss: 0.1161\n",
      "Epoch [64/100], Train Loss: 0.1089, Val Loss: 0.0998\n",
      "Epoch [65/100], Train Loss: 0.1013, Val Loss: 0.1092\n",
      "Epoch [66/100], Train Loss: 0.1020, Val Loss: 0.1155\n",
      "Epoch [67/100], Train Loss: 0.1063, Val Loss: 0.0985\n",
      "Epoch [68/100], Train Loss: 0.1126, Val Loss: 0.1102\n",
      "Epoch [69/100], Train Loss: 0.0923, Val Loss: 0.0981\n",
      "Epoch [70/100], Train Loss: 0.0886, Val Loss: 0.1122\n",
      "Epoch [71/100], Train Loss: 0.1012, Val Loss: 0.1104\n",
      "Epoch [72/100], Train Loss: 0.1178, Val Loss: 0.1171\n",
      "Epoch [73/100], Train Loss: 0.0987, Val Loss: 0.1254\n",
      "Epoch [74/100], Train Loss: 0.1030, Val Loss: 0.1028\n",
      "Epoch [75/100], Train Loss: 0.1104, Val Loss: 0.1181\n",
      "Epoch [76/100], Train Loss: 0.1053, Val Loss: 0.0985\n",
      "Epoch [77/100], Train Loss: 0.0949, Val Loss: 0.0981\n",
      "Epoch [78/100], Train Loss: 0.1209, Val Loss: 0.1402\n",
      "Epoch [79/100], Train Loss: 0.1336, Val Loss: 0.1004\n",
      "Epoch [80/100], Train Loss: 0.1033, Val Loss: 0.1474\n",
      "Epoch [81/100], Train Loss: 0.0989, Val Loss: 0.0971\n",
      "Epoch [82/100], Train Loss: 0.0911, Val Loss: 0.1440\n",
      "Epoch [83/100], Train Loss: 0.0934, Val Loss: 0.1210\n",
      "Epoch [84/100], Train Loss: 0.1095, Val Loss: 0.1298\n",
      "Epoch [85/100], Train Loss: 0.1025, Val Loss: 0.1612\n",
      "Epoch [86/100], Train Loss: 0.1098, Val Loss: 0.1368\n",
      "Epoch [87/100], Train Loss: 0.0948, Val Loss: 0.1014\n",
      "Epoch [88/100], Train Loss: 0.0948, Val Loss: 0.1074\n",
      "Epoch [89/100], Train Loss: 0.1169, Val Loss: 0.1445\n",
      "Epoch [90/100], Train Loss: 0.1263, Val Loss: 0.1066\n",
      "Epoch [91/100], Train Loss: 0.0930, Val Loss: 0.1125\n",
      "Epoch [92/100], Train Loss: 0.1032, Val Loss: 0.1028\n",
      "Epoch [93/100], Train Loss: 0.1140, Val Loss: 0.1069\n",
      "Epoch [94/100], Train Loss: 0.0929, Val Loss: 0.1010\n",
      "Epoch [95/100], Train Loss: 0.0959, Val Loss: 0.0986\n",
      "Epoch [96/100], Train Loss: 0.0938, Val Loss: 0.1040\n",
      "Epoch [97/100], Train Loss: 0.0901, Val Loss: 0.0983\n",
      "Epoch [98/100], Train Loss: 0.0985, Val Loss: 0.1857\n",
      "Epoch [99/100], Train Loss: 0.1019, Val Loss: 0.1062\n",
      "Epoch [100/100], Train Loss: 0.0966, Val Loss: 0.1073\n"
     ]
    },
    {
     "data": {
      "image/png": "[encoded data removed]",
      "text/plain": [
       "<Figure size 640x480 with 1 Axes>"
      ]
     },
     "metadata": {},
     "output_type": "display_data"
    }
   ],
   "source": [
    "# Собираем наши лоссы для каждого шага\n",
    "train_losses = []\n",
    "val_losses = []\n",
    "\n",
    "# Обучение (train-loop)\n",
    "for epoch in tqdm(range(num_epochs)):\n",
    "    # Переводим в режим обучения, см. подробнее: https://stackoverflow.com/questions/51433378/what-does-model-train-do-in-pytorch\n",
    "    model.train()\n",
    "    # Считаем общий лосс, чтобы потом вычислять среднее\n",
    "    running_train_loss = 0.0\n",
    "\n",
    "    # Для признаков и таргетов\n",
    "    for inputs, labels in train_dataloader:\n",
    "        # Помещаем в наш девайс, это один батч у нас\n",
    "        inputs, labels = inputs.to(device), labels.to(device)\n",
    "\n",
    "        # Forward pass (т.е. наши данные проходят через модель (с текущими весами) и затем смотрим на лосс, как часто модель ошибалась)\n",
    "        outputs = model(inputs)\n",
    "        loss = criterion(outputs, labels)\n",
    "\n",
    "        # Backward pass и обновление весов\n",
    "        # Обнуляем градиенты, которые уже не актуальны\n",
    "        optimizer.zero_grad()\n",
    "        # Обратный проход по структуре\n",
    "        loss.backward()\n",
    "        # Обновление весов\n",
    "        optimizer.step()\n",
    "        # Суммируем лосс\n",
    "        running_train_loss += loss.item()\n",
    "\n",
    "    # Средняя функция потерь на тренировочной выборке за эпоху, чтобы не зависеть от аномалий всякого рода\n",
    "    train_loss = running_train_loss / len(train_dataloader)\n",
    "    # Добавляем тренировочный лосс\n",
    "    train_losses.append(train_loss)\n",
    "\n",
    "    # Валидация (eval-loop)\n",
    "    # Переводим в режим оценивания\n",
    "    model.eval()\n",
    "    running_val_loss = 0.0\n",
    "    # Отключаем вычисление градиентов\n",
    "    with torch.no_grad():\n",
    "        for inputs, labels in val_dataloader:\n",
    "            inputs, labels = inputs.to(device), labels.to(device)\n",
    "\n",
    "            # Forward pass\n",
    "            outputs = model(inputs)\n",
    "            loss = criterion(outputs, labels)\n",
    "            running_val_loss += loss.item()\n",
    "\n",
    "    # Средняя функция потерь на валидационной выборке за эпоху\n",
    "    val_loss = running_val_loss / len(val_dataloader)\n",
    "    val_losses.append(val_loss)\n",
    "\n",
    "    print(f\"Epoch [{epoch+1}/{num_epochs}], Train Loss: {train_loss:.4f}, Val Loss: {val_loss:.4f}\")\n",
    "\n",
    "# Визуализация функции потерь\n",
    "plt.plot(train_losses, label='Train Loss')\n",
    "plt.plot(val_losses, label='Validation Loss')\n",
    "plt.xlabel('Epoch')\n",
    "plt.ylabel('Loss')\n",
    "plt.legend()\n",
    "plt.title('Training and Validation Loss')\n",
    "plt.show()"
   ]
  },
  {
   "cell_type": "markdown",
   "id": "b4e573d2-a3b7-4506-9add-2dc81d0bed0b",
   "metadata": {},
   "source": [
    "# 5. Проверка результатов"
   ]
  },
  {
   "cell_type": "code",
   "execution_count": 32,
   "id": "c24df68b-898e-4169-a820-124549b52d21",
   "metadata": {},
   "outputs": [
    {
     "name": "stdout",
     "output_type": "stream",
     "text": [
      "              precision    recall  f1-score   support\n",
      "\n",
      "         0.0       0.95      0.98      0.96       233\n",
      "         1.0       0.99      0.98      0.98       517\n",
      "\n",
      "    accuracy                           0.98       750\n",
      "   macro avg       0.97      0.98      0.97       750\n",
      "weighted avg       0.98      0.98      0.98       750\n",
      "\n"
     ]
    }
   ],
   "source": [
    "from sklearn.metrics import classification_report\n",
    "\n",
    "# Тестирование модели\n",
    "model.eval()\n",
    "all_preds = []\n",
    "all_labels = []\n",
    "\n",
    "with torch.no_grad():\n",
    "    for inputs, labels in test_dataloader:\n",
    "        inputs, labels = inputs.to(device), labels.to(device)\n",
    "\n",
    "        # Forward pass\n",
    "        outputs = model(inputs).squeeze()\n",
    "        preds = (outputs > 0.5).long()\n",
    "\n",
    "        all_preds.extend(preds.cpu().numpy())\n",
    "        all_labels.extend(labels.cpu().numpy())\n",
    "\n",
    "# Построение отчета о классификации\n",
    "print(classification_report(all_labels, all_preds))"
   ]
  },
  {
   "cell_type": "code",
   "execution_count": null,
   "id": "7fb62ebe-d57a-4d3f-9963-c6e8e3610fb9",
   "metadata": {},
   "outputs": [],
   "source": []
  }
 ],
 "metadata": {
  "kernelspec": {
   "display_name": "Python 3 (ipykernel)",
   "language": "python",
   "name": "python3"
  },
  "language_info": {
   "codemirror_mode": {
    "name": "ipython",
    "version": 3
   },
   "file_extension": ".py",
   "mimetype": "text/x-python",
   "name": "python",
   "nbconvert_exporter": "python",
   "pygments_lexer": "ipython3",
   "version": "3.8.20"
  }
 },
 "nbformat": 4,
 "nbformat_minor": 5
}
