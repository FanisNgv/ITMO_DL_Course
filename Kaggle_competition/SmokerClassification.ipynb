{
 "cells": [
  {
   "cell_type": "markdown",
   "id": "5fcd4fac",
   "metadata": {},
   "source": [
    "# 1. Импорт модулей и библиотек"
   ]
  },
  {
   "cell_type": "code",
   "execution_count": 9,
   "id": "f571b023-a87d-4c5c-b6ca-f6f1167eaccc",
   "metadata": {},
   "outputs": [],
   "source": [
    "import torch\n",
    "import torch.nn as nn\n",
    "import torch.optim as optim\n",
    "from torch.utils.data import DataLoader, Dataset\n",
    "import pandas as pd\n",
    "import numpy as np\n",
    "from sklearn.model_selection import train_test_split\n",
    "from sklearn.preprocessing import StandardScaler\n",
    "from sklearn.metrics import roc_auc_score"
   ]
  },
  {
   "cell_type": "markdown",
   "id": "edbac372",
   "metadata": {},
   "source": [
    "# 2. Сплит данных и нормализация"
   ]
  },
  {
   "cell_type": "code",
   "execution_count": 10,
   "id": "00471602-c651-4cc1-a269-dcfd0169bbe0",
   "metadata": {},
   "outputs": [],
   "source": [
    "train_data = pd.read_csv('train.csv')\n",
    "test_data = pd.read_csv('test.csv')\n",
    "\n",
    "X = train_data.drop(columns=['smoking']).values\n",
    "y = train_data['smoking'].values\n",
    "\n",
    "X_train, X_val, y_train, y_val = train_test_split(X, y, test_size=0.2, random_state=42)\n",
    "\n",
    "scaler = StandardScaler()\n",
    "X_train = scaler.fit_transform(X_train)\n",
    "X_val = scaler.transform(X_val)\n",
    "X_test = scaler.transform(test_data.values)"
   ]
  },
  {
   "cell_type": "markdown",
   "id": "30770d4d",
   "metadata": {},
   "source": [
    "# 3. Определение класса SmokerDataset и создание даталодеров"
   ]
  },
  {
   "cell_type": "code",
   "execution_count": 11,
   "id": "67702f0d-c179-47b1-a401-32fdf03808bd",
   "metadata": {},
   "outputs": [],
   "source": [
    "class SmokerDataset(Dataset):\n",
    "    def __init__(self, features, labels=None):\n",
    "        self.features = features\n",
    "        self.labels = labels\n",
    "\n",
    "    def __len__(self):\n",
    "        return len(self.features)\n",
    "\n",
    "    def __getitem__(self, idx):\n",
    "        if self.labels is not None:\n",
    "            return (\n",
    "                torch.tensor(self.features[idx], dtype=torch.float32),\n",
    "                torch.tensor(self.labels[idx], dtype=torch.float32)\n",
    "            )\n",
    "        else:\n",
    "            return torch.tensor(self.features[idx], dtype=torch.float32)\n",
    "\n",
    "train_dataset = SmokerDataset(X_train, y_train)\n",
    "val_dataset = SmokerDataset(X_val, y_val)\n",
    "test_dataset = SmokerDataset(X_test)\n",
    "\n",
    "train_loader = DataLoader(train_dataset, batch_size=32, shuffle=True)\n",
    "val_loader = DataLoader(val_dataset, batch_size=32, shuffle=False)\n",
    "test_loader = DataLoader(test_dataset, batch_size=32, shuffle=False)"
   ]
  },
  {
   "cell_type": "markdown",
   "id": "9fe9b758",
   "metadata": {},
   "source": [
    "# 4. Класс классификатора"
   ]
  },
  {
   "cell_type": "code",
   "execution_count": 12,
   "id": "d106d67c-3f6c-4cec-8a76-4200260a6a64",
   "metadata": {},
   "outputs": [],
   "source": [
    "class SmokerClassifier(nn.Module):\n",
    "    def __init__(self, input_size):\n",
    "        super(SmokerClassifier, self).__init__()\n",
    "        self.fc1 = nn.Linear(input_size, 128)\n",
    "        self.fc2 = nn.Linear(128, 64)\n",
    "        self.fc3 = nn.Linear(64, 1)\n",
    "\n",
    "    def forward(self, x):\n",
    "        x = torch.relu(self.fc1(x))\n",
    "        x = torch.relu(self.fc2(x))\n",
    "        x = torch.sigmoid(self.fc3(x)) \n",
    "        return x\n",
    "\n",
    "model = SmokerClassifier(input_size=X_train.shape[1])"
   ]
  },
  {
   "cell_type": "markdown",
   "id": "a93506ea",
   "metadata": {},
   "source": [
    "# 5. Выбор функции лосса и оптимизатора"
   ]
  },
  {
   "cell_type": "code",
   "execution_count": 13,
   "id": "3734b3f2-bd93-48b9-9e6f-fdb1ca5e1afe",
   "metadata": {},
   "outputs": [],
   "source": [
    "criterion = nn.BCELoss()\n",
    "optimizer = optim.Adam(model.parameters(), lr=0.001)"
   ]
  },
  {
   "cell_type": "markdown",
   "id": "cee6d6df",
   "metadata": {},
   "source": [
    "# 6. Обучение модели"
   ]
  },
  {
   "cell_type": "code",
   "execution_count": 14,
   "id": "01f8e2d6-7f5a-440b-89ce-173b17267de6",
   "metadata": {},
   "outputs": [
    {
     "name": "stdout",
     "output_type": "stream",
     "text": [
      "Epoch 1, Validation Loss: 0.0127, Validation ROC AUC: 0.8811\n",
      "Epoch 2, Validation Loss: 0.0125, Validation ROC AUC: 0.8842\n",
      "Epoch 3, Validation Loss: 0.0127, Validation ROC AUC: 0.8833\n",
      "Epoch 4, Validation Loss: 0.0127, Validation ROC AUC: 0.8846\n",
      "Epoch 5, Validation Loss: 0.0125, Validation ROC AUC: 0.8861\n",
      "Epoch 6, Validation Loss: 0.0126, Validation ROC AUC: 0.8859\n",
      "Epoch 7, Validation Loss: 0.0125, Validation ROC AUC: 0.8867\n",
      "Epoch 8, Validation Loss: 0.0126, Validation ROC AUC: 0.8837\n",
      "Epoch 9, Validation Loss: 0.0126, Validation ROC AUC: 0.8852\n",
      "Epoch 10, Validation Loss: 0.0125, Validation ROC AUC: 0.8853\n"
     ]
    }
   ],
   "source": [
    "num_epochs = 10\n",
    "best_auc = 0 \n",
    "\n",
    "for epoch in range(num_epochs):\n",
    "    model.train()\n",
    "    for batch_idx, (data, target) in enumerate(train_loader):\n",
    "        optimizer.zero_grad()\n",
    "        output = model(data)\n",
    "        loss = criterion(output.squeeze(), target)\n",
    "        loss.backward()\n",
    "        optimizer.step()\n",
    "\n",
    "    model.eval()\n",
    "    val_loss = 0\n",
    "    all_targets = []\n",
    "    all_probabilities = []\n",
    "    with torch.no_grad():\n",
    "        for data, target in val_loader:\n",
    "            output = model(data)\n",
    "            val_loss += criterion(output.squeeze(), target).item()\n",
    "            all_targets.extend(target.numpy())\n",
    "            all_probabilities.extend(output.numpy().flatten())\n",
    "\n",
    "    val_loss /= len(val_loader.dataset)\n",
    "    val_auc = roc_auc_score(all_targets, all_probabilities)\n",
    "    print(f'Epoch {epoch+1}, Validation Loss: {val_loss:.4f}, Validation ROC AUC: {val_auc:.4f}')\n",
    "\n",
    "    if val_auc > best_auc:\n",
    "        best_auc = val_auc\n",
    "        torch.save(model.state_dict(), 'best_model.pth')"
   ]
  },
  {
   "cell_type": "code",
   "execution_count": 15,
   "id": "e397bbfa-bf73-4f10-b536-fd54c66a0dee",
   "metadata": {},
   "outputs": [
    {
     "name": "stderr",
     "output_type": "stream",
     "text": [
      "C:\\Users\\Nigamadyanov\\AppData\\Local\\Temp\\ipykernel_213584\\1559688700.py:1: FutureWarning: You are using `torch.load` with `weights_only=False` (the current default value), which uses the default pickle module implicitly. It is possible to construct malicious pickle data which will execute arbitrary code during unpickling (See https://github.com/pytorch/pytorch/blob/main/SECURITY.md#untrusted-models for more details). In a future release, the default value for `weights_only` will be flipped to `True`. This limits the functions that could be executed during unpickling. Arbitrary objects will no longer be allowed to be loaded via this mode unless they are explicitly allowlisted by the user via `torch.serialization.add_safe_globals`. We recommend you start setting `weights_only=True` for any use case where you don't have full control of the loaded file. Please open an issue on GitHub for any issues related to this experimental feature.\n",
      "  model.load_state_dict(torch.load('best_model.pth'))\n"
     ]
    },
    {
     "data": {
      "text/plain": [
       "<All keys matched successfully>"
      ]
     },
     "execution_count": 15,
     "metadata": {},
     "output_type": "execute_result"
    }
   ],
   "source": [
    "# Используем лучшую получившуюся модель\n",
    "model.load_state_dict(torch.load('best_model.pth'))"
   ]
  },
  {
   "cell_type": "markdown",
   "id": "ea0d0f05",
   "metadata": {},
   "source": [
    "# 7. Выгрузка ответов"
   ]
  },
  {
   "cell_type": "code",
   "execution_count": 19,
   "id": "623400df-0a6b-48eb-93f1-aff048f4a1ca",
   "metadata": {},
   "outputs": [],
   "source": [
    "model.eval()\n",
    "probabilities = []\n",
    "# Проверяем на тестовой части и записываем в выходной файлик\n",
    "with torch.no_grad():\n",
    "    for data in test_loader:\n",
    "        output = model(data)\n",
    "        probabilities.extend(output.numpy().flatten())\n",
    "\n",
    "submission = pd.DataFrame({'id': test_data['id'], 'smoking': probabilities})\n",
    "submission.to_csv('submission.csv', index=False)"
   ]
  }
 ],
 "metadata": {
  "kernelspec": {
   "display_name": "Python 3 (ipykernel)",
   "language": "python",
   "name": "python3"
  },
  "language_info": {
   "codemirror_mode": {
    "name": "ipython",
    "version": 3
   },
   "file_extension": ".py",
   "mimetype": "text/x-python",
   "name": "python",
   "nbconvert_exporter": "python",
   "pygments_lexer": "ipython3",
   "version": "3.8.20"
  }
 },
 "nbformat": 4,
 "nbformat_minor": 5
}
