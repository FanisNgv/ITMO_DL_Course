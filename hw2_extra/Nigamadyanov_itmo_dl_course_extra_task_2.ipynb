{
 "cells": [
  {
   "cell_type": "markdown",
   "id": "fb4a7ec3-51bc-4461-834d-8c86e2a4de37",
   "metadata": {},
   "source": [
    "# 1. Импорт модулей и библиотек"
   ]
  },
  {
   "cell_type": "code",
   "execution_count": 61,
   "id": "637ddf14-1a55-4eca-8c52-6b5ab792a455",
   "metadata": {},
   "outputs": [],
   "source": [
    "from torchvision import datasets, transforms\n",
    "from torch.utils.data import DataLoader, random_split\n",
    "import torch\n",
    "import torch.nn as nn\n",
    "import torch.nn.functional as F\n",
    "from torch.optim import Adam\n",
    "from torch.optim.lr_scheduler import StepLR\n",
    "from torchmetrics import F1Score, ROC\n",
    "import pytorch_lightning as pl\n",
    "import numpy as np\n",
    "import random"
   ]
  },
  {
   "cell_type": "markdown",
   "id": "3648728c-6b2e-4906-a6e3-76398be2edaa",
   "metadata": {},
   "source": [
    "# 2. Обеспечение воспроизводимости"
   ]
  },
  {
   "cell_type": "code",
   "execution_count": 62,
   "id": "5332e924-6c77-4a82-aeaf-c54a9076502a",
   "metadata": {},
   "outputs": [
    {
     "name": "stdout",
     "output_type": "stream",
     "text": [
      "Random seed set as 42\n"
     ]
    }
   ],
   "source": [
    "def set_seed(seed: int = 42) -> None:\n",
    "    np.random.seed(seed)\n",
    "    random.seed(seed)\n",
    "    torch.manual_seed(seed)\n",
    "    torch.cuda.manual_seed(seed)\n",
    "    torch.backends.cudnn.deterministic = True\n",
    "    torch.backends.cudnn.benchmark = False\n",
    "    print(f\"Random seed set as {seed}\")\n",
    "\n",
    "set_seed(42)"
   ]
  },
  {
   "cell_type": "markdown",
   "id": "5c2ed2bb-6427-4148-b8c0-2a6bbbd2d8a0",
   "metadata": {},
   "source": [
    "# 3. Класс подготовки данных"
   ]
  },
  {
   "cell_type": "code",
   "execution_count": 63,
   "id": "8ebc6d30-fdb0-4fb7-ac99-068b6bc7fb7d",
   "metadata": {},
   "outputs": [],
   "source": [
    "class FashionMNISTDataModule(pl.LightningDataModule):\n",
    "    def __init__(self, data_dir: str = \"./data\", batch_size: int = 64, num_workers: int = 2):\n",
    "        super().__init__()\n",
    "        # Расположение данных\n",
    "        self.data_dir = data_dir\n",
    "        # Размер батча\n",
    "        self.batch_size = batch_size\n",
    "        # Количество подпроцессов для подгрузки данных\n",
    "        self.num_workers = num_workers\n",
    "\n",
    "        # Определяем преобразования для данных\n",
    "        self.transform = transforms.Compose([\n",
    "            # Преобразуем изображение в формат тензора\n",
    "            transforms.ToTensor(),\n",
    "            # Нормализуем в диапазон от -1 до 1\n",
    "            transforms.Normalize((0.5,), (0.5,))\n",
    "        ])\n",
    "\n",
    "    def prepare_data(self):\n",
    "        # Скачиваем данные в нашу директорию\n",
    "        datasets.FashionMNIST(self.data_dir, train=True, download=True)\n",
    "        datasets.FashionMNIST(self.data_dir, train=False, download=True)\n",
    "\n",
    "    def setup(self, stage=None):\n",
    "        # Загружаем данные и разбиваем на train/val/test\n",
    "        if stage == 'fit' or stage is None:\n",
    "            # Берем train часть, применяем трансформацию\n",
    "            full_dataset = datasets.FashionMNIST(self.data_dir, train=True, transform=self.transform)\n",
    "            # Рандом сплитом разбиваем на трейн и валидацию\n",
    "            self.train_dataset, self.val_dataset = random_split(full_dataset, [55000, 5000])\n",
    "\n",
    "        if stage == 'test' or stage is None:\n",
    "            # Просто берем тестовую часть\n",
    "            self.test_dataset = datasets.FashionMNIST(self.data_dir, train=False, transform=self.transform)\n",
    "\n",
    "    # Создаем методы для даталоадеров\n",
    "    def train_dataloader(self):\n",
    "        return DataLoader(self.train_dataset, batch_size=self.batch_size, num_workers=self.num_workers, shuffle=True)\n",
    "\n",
    "    def val_dataloader(self):\n",
    "        return DataLoader(self.val_dataset, batch_size=self.batch_size, num_workers=self.num_workers)\n",
    "\n",
    "    def test_dataloader(self):\n",
    "        return DataLoader(self.test_dataset, batch_size=self.batch_size, num_workers=self.num_workers)\n"
   ]
  },
  {
   "cell_type": "code",
   "execution_count": 77,
   "id": "14866325-3b0e-423e-bbd0-6569a972061d",
   "metadata": {},
   "outputs": [],
   "source": [
    "from torchmetrics import ROC, AUROC\n",
    "\n",
    "class FashionMNISTModel(pl.LightningModule):\n",
    "    def __init__(self, learning_rate: float = 0.001):\n",
    "        super().__init__()\n",
    "        self.learning_rate = learning_rate\n",
    "\n",
    "        # Архитектура модели\n",
    "        # Два сверточных слоя и два полносвязных линейных слоя\n",
    "        self.conv1 = nn.Conv2d(1, 16, kernel_size=3, stride=1, padding=1)\n",
    "        self.conv2 = nn.Conv2d(16, 32, kernel_size=3, stride=1, padding=1)\n",
    "        self.fc1 = nn.Linear(32 * 7 * 7, 128)\n",
    "        self.fc2 = nn.Linear(128, 10)\n",
    "\n",
    "        # Метрики\n",
    "        self.train_f1 = F1Score(task=\"multiclass\", num_classes=10)\n",
    "        self.val_f1 = F1Score(task=\"multiclass\", num_classes=10)\n",
    "        self.test_f1 = F1Score(task=\"multiclass\", num_classes=10)\n",
    "\n",
    "        self.val_roc = ROC(task=\"multiclass\", num_classes=10)\n",
    "        self.test_roc = ROC(task=\"multiclass\", num_classes=10)\n",
    "        self.val_auc = AUROC(task=\"multiclass\", num_classes=10)\n",
    "        self.test_auc = AUROC(task=\"multiclass\", num_classes=10)\n",
    "\n",
    "    def forward(self, x):\n",
    "        x = F.relu(self.conv1(x))\n",
    "        x = F.max_pool2d(x, 2)\n",
    "        x = F.relu(self.conv2(x))\n",
    "        x = F.max_pool2d(x, 2)\n",
    "        x = x.view(x.size(0), -1)\n",
    "        x = F.relu(self.fc1(x))\n",
    "        x = self.fc2(x)\n",
    "        return x\n",
    "\n",
    "    # Как раз засчет лайтнинга упрощение\n",
    "    def training_step(self, batch, batch_idx):\n",
    "        # Получаем фичи и таргеты\n",
    "        x, y = batch\n",
    "        # Через форвард получаем прогнозы\n",
    "        y_hat = self(x)\n",
    "        # Считаем лосс через кросс-энтропию\n",
    "        loss = F.cross_entropy(y_hat, y)\n",
    "        self.log(\"train_loss\", loss, on_step=False, on_epoch=True, prog_bar=True, logger=True)\n",
    "        # Наиболее вероятные логиты смотрим\n",
    "        preds = torch.argmax(y_hat, dim=1)\n",
    "        # Обновляем метрику F1 на этом шаге\n",
    "        self.train_f1(preds, y)\n",
    "        self.log(\"train_f1\", self.train_f1, on_step=False, on_epoch=True, prog_bar=True, logger=True)\n",
    "        return loss\n",
    "\n",
    "    def validation_step(self, batch, batch_idx):\n",
    "        x, y = batch\n",
    "        y_hat = self(x)\n",
    "        loss = F.cross_entropy(y_hat, y)\n",
    "        self.log(\"val_loss\", loss, on_step=False, on_epoch=True, prog_bar=True, logger=True)\n",
    "\n",
    "        preds = torch.argmax(y_hat, dim=1)\n",
    "        self.val_f1(preds, y)\n",
    "        self.log(\"val_f1\", self.val_f1, on_step=False, on_epoch=True, prog_bar=True, logger=True)\n",
    "\n",
    "        self.val_auc(y_hat, y)\n",
    "        self.log(\"val_roc_auc\", self.val_auc, on_step=False, on_epoch=True, prog_bar=True, logger=True)\n",
    "\n",
    "    def test_step(self, batch, batch_idx):\n",
    "        x, y = batch\n",
    "        y_hat = self(x)\n",
    "        loss = F.cross_entropy(y_hat, y)\n",
    "        self.log(\"test_loss\", loss, on_step=False, on_epoch=True, prog_bar=True, logger=True)\n",
    "\n",
    "        preds = torch.argmax(y_hat, dim=1)\n",
    "        self.test_f1(preds, y)\n",
    "        self.log(\"test_f1\", self.test_f1, on_step=False, on_epoch=True, prog_bar=True, logger=True)\n",
    "\n",
    "        self.test_auc(y_hat, y)\n",
    "        self.log(\"test_roc_auc\", self.test_auc, on_step=False, on_epoch=True, prog_bar=True, logger=True)\n",
    "\n",
    "    # Настройки оптимизатора и планировщика\n",
    "    def configure_optimizers(self):\n",
    "        optimizer = torch.optim.Adam(self.parameters(), lr=self.learning_rate)\n",
    "        scheduler = torch.optim.lr_scheduler.StepLR(optimizer, step_size=5, gamma=0.1)\n",
    "        return [optimizer], [scheduler]"
   ]
  },
  {
   "cell_type": "code",
   "execution_count": 83,
   "id": "c629cb2a-3edb-4c3c-9963-f2de0cf13520",
   "metadata": {},
   "outputs": [],
   "source": [
    "from pytorch_lightning.callbacks import EarlyStopping\n",
    "\n",
    "# Callback для EarlyStopping\n",
    "early_stop_callback = EarlyStopping(\n",
    "    monitor=\"val_loss\",  # Метрика для отслеживания\n",
    "    patience=3,          # Количество эпох без улучшения\n",
    "    mode=\"min\",          # Остановка, если метрика уменьшается\n",
    "    verbose=True         # Вывод сообщений\n",
    ")"
   ]
  },
  {
   "cell_type": "code",
   "execution_count": 84,
   "id": "b5d7669e-c370-495a-9ff4-542806d6e7af",
   "metadata": {},
   "outputs": [
    {
     "name": "stderr",
     "output_type": "stream",
     "text": [
      "GPU available: True (cuda), used: True\n",
      "TPU available: False, using: 0 TPU cores\n",
      "HPU available: False, using: 0 HPUs\n",
      "LOCAL_RANK: 0 - CUDA_VISIBLE_DEVICES: [0]\n",
      "\n",
      "   | Name     | Type              | Params | Mode \n",
      "--------------------------------------------------------\n",
      "0  | conv1    | Conv2d            | 160    | train\n",
      "1  | conv2    | Conv2d            | 4.6 K  | train\n",
      "2  | fc1      | Linear            | 200 K  | train\n",
      "3  | fc2      | Linear            | 1.3 K  | train\n",
      "4  | train_f1 | MulticlassF1Score | 0      | train\n",
      "5  | val_f1   | MulticlassF1Score | 0      | train\n",
      "6  | test_f1  | MulticlassF1Score | 0      | train\n",
      "7  | val_roc  | MulticlassROC     | 0      | train\n",
      "8  | test_roc | MulticlassROC     | 0      | train\n",
      "9  | val_auc  | MulticlassAUROC   | 0      | train\n",
      "10 | test_auc | MulticlassAUROC   | 0      | train\n",
      "--------------------------------------------------------\n",
      "206 K     Trainable params\n",
      "0         Non-trainable params\n",
      "206 K     Total params\n",
      "0.828     Total estimated model params size (MB)\n"
     ]
    },
    {
     "data": {
      "application/vnd.jupyter.widget-view+json": {
       "model_id": "",
       "version_major": 2,
       "version_minor": 0
      },
      "text/plain": [
       "Sanity Checking: |          | 0/? [00:00<?, ?it/s]"
      ]
     },
     "metadata": {},
     "output_type": "display_data"
    },
    {
     "data": {
      "application/vnd.jupyter.widget-view+json": {
       "model_id": "85a57f4a6b83489a8e621ff569d21fa3",
       "version_major": 2,
       "version_minor": 0
      },
      "text/plain": [
       "Training: |          | 0/? [00:00<?, ?it/s]"
      ]
     },
     "metadata": {},
     "output_type": "display_data"
    },
    {
     "data": {
      "application/vnd.jupyter.widget-view+json": {
       "model_id": "",
       "version_major": 2,
       "version_minor": 0
      },
      "text/plain": [
       "Validation: |          | 0/? [00:00<?, ?it/s]"
      ]
     },
     "metadata": {},
     "output_type": "display_data"
    },
    {
     "name": "stderr",
     "output_type": "stream",
     "text": [
      "Metric val_loss improved. New best score: 0.346\n"
     ]
    },
    {
     "data": {
      "application/vnd.jupyter.widget-view+json": {
       "model_id": "",
       "version_major": 2,
       "version_minor": 0
      },
      "text/plain": [
       "Validation: |          | 0/? [00:00<?, ?it/s]"
      ]
     },
     "metadata": {},
     "output_type": "display_data"
    },
    {
     "name": "stderr",
     "output_type": "stream",
     "text": [
      "Metric val_loss improved by 0.016 >= min_delta = 0.0. New best score: 0.329\n"
     ]
    },
    {
     "data": {
      "application/vnd.jupyter.widget-view+json": {
       "model_id": "",
       "version_major": 2,
       "version_minor": 0
      },
      "text/plain": [
       "Validation: |          | 0/? [00:00<?, ?it/s]"
      ]
     },
     "metadata": {},
     "output_type": "display_data"
    },
    {
     "name": "stderr",
     "output_type": "stream",
     "text": [
      "Metric val_loss improved by 0.064 >= min_delta = 0.0. New best score: 0.266\n"
     ]
    },
    {
     "data": {
      "application/vnd.jupyter.widget-view+json": {
       "model_id": "",
       "version_major": 2,
       "version_minor": 0
      },
      "text/plain": [
       "Validation: |          | 0/? [00:00<?, ?it/s]"
      ]
     },
     "metadata": {},
     "output_type": "display_data"
    },
    {
     "name": "stderr",
     "output_type": "stream",
     "text": [
      "Metric val_loss improved by 0.019 >= min_delta = 0.0. New best score: 0.246\n"
     ]
    },
    {
     "data": {
      "application/vnd.jupyter.widget-view+json": {
       "model_id": "",
       "version_major": 2,
       "version_minor": 0
      },
      "text/plain": [
       "Validation: |          | 0/? [00:00<?, ?it/s]"
      ]
     },
     "metadata": {},
     "output_type": "display_data"
    },
    {
     "name": "stderr",
     "output_type": "stream",
     "text": [
      "Metric val_loss improved by 0.014 >= min_delta = 0.0. New best score: 0.232\n"
     ]
    },
    {
     "data": {
      "application/vnd.jupyter.widget-view+json": {
       "model_id": "",
       "version_major": 2,
       "version_minor": 0
      },
      "text/plain": [
       "Validation: |          | 0/? [00:00<?, ?it/s]"
      ]
     },
     "metadata": {},
     "output_type": "display_data"
    },
    {
     "name": "stderr",
     "output_type": "stream",
     "text": [
      "Metric val_loss improved by 0.012 >= min_delta = 0.0. New best score: 0.220\n"
     ]
    },
    {
     "data": {
      "application/vnd.jupyter.widget-view+json": {
       "model_id": "",
       "version_major": 2,
       "version_minor": 0
      },
      "text/plain": [
       "Validation: |          | 0/? [00:00<?, ?it/s]"
      ]
     },
     "metadata": {},
     "output_type": "display_data"
    },
    {
     "name": "stderr",
     "output_type": "stream",
     "text": [
      "Metric val_loss improved by 0.007 >= min_delta = 0.0. New best score: 0.213\n"
     ]
    },
    {
     "data": {
      "application/vnd.jupyter.widget-view+json": {
       "model_id": "",
       "version_major": 2,
       "version_minor": 0
      },
      "text/plain": [
       "Validation: |          | 0/? [00:00<?, ?it/s]"
      ]
     },
     "metadata": {},
     "output_type": "display_data"
    },
    {
     "name": "stderr",
     "output_type": "stream",
     "text": [
      "Metric val_loss improved by 0.002 >= min_delta = 0.0. New best score: 0.211\n"
     ]
    },
    {
     "data": {
      "application/vnd.jupyter.widget-view+json": {
       "model_id": "",
       "version_major": 2,
       "version_minor": 0
      },
      "text/plain": [
       "Validation: |          | 0/? [00:00<?, ?it/s]"
      ]
     },
     "metadata": {},
     "output_type": "display_data"
    },
    {
     "data": {
      "application/vnd.jupyter.widget-view+json": {
       "model_id": "",
       "version_major": 2,
       "version_minor": 0
      },
      "text/plain": [
       "Validation: |          | 0/? [00:00<?, ?it/s]"
      ]
     },
     "metadata": {},
     "output_type": "display_data"
    },
    {
     "name": "stderr",
     "output_type": "stream",
     "text": [
      "`Trainer.fit` stopped: `max_epochs=10` reached.\n"
     ]
    }
   ],
   "source": [
    "from pytorch_lightning import Trainer\n",
    "from pytorch_lightning.loggers import TensorBoardLogger\n",
    "\n",
    "# Логгер для TensorBoard\n",
    "logger = TensorBoardLogger(\"logs\", name=\"fashion_mnist\")\n",
    "\n",
    "# Создаем Trainer\n",
    "trainer = Trainer(\n",
    "    max_epochs=10,                   # Максимальное количество эпох\n",
    "    callbacks=[early_stop_callback], # Добавляем раннюю остановку, чтобы найти решение раньше\n",
    "    logger=logger,                   # Логгируем в TensorBoard\n",
    "    accelerator=\"auto\",              # Автоматически используем GPU\n",
    "    devices=\"auto\"                   # Автоматически выбирает устройство\n",
    ")\n",
    "\n",
    "model = FashionMNISTModel(learning_rate=1e-3)\n",
    "\n",
    "trainer.fit(model, data_module)"
   ]
  },
  {
   "cell_type": "code",
   "execution_count": 85,
   "id": "dc575d96-ae51-4662-a314-e8a3f12723d9",
   "metadata": {},
   "outputs": [
    {
     "name": "stderr",
     "output_type": "stream",
     "text": [
      "LOCAL_RANK: 0 - CUDA_VISIBLE_DEVICES: [0]\n"
     ]
    },
    {
     "data": {
      "application/vnd.jupyter.widget-view+json": {
       "model_id": "70e6536690a94fbfa7a5faa6a4494315",
       "version_major": 2,
       "version_minor": 0
      },
      "text/plain": [
       "Testing: |          | 0/? [00:00<?, ?it/s]"
      ]
     },
     "metadata": {},
     "output_type": "display_data"
    },
    {
     "name": "stdout",
     "output_type": "stream",
     "text": [
      "────────────────────────────────────────────────────────────────────────────────────────────────────────────────────────\n",
      "       Test metric             DataLoader 0\n",
      "────────────────────────────────────────────────────────────────────────────────────────────────────────────────────────\n",
      "         test_f1            0.9185000061988831\n",
      "        test_loss           0.2345825731754303\n",
      "      test_roc_auc          0.9948101043701172\n",
      "────────────────────────────────────────────────────────────────────────────────────────────────────────────────────────\n"
     ]
    },
    {
     "data": {
      "text/plain": [
       "[{'test_loss': 0.2345825731754303,\n",
       "  'test_f1': 0.9185000061988831,\n",
       "  'test_roc_auc': 0.9948101043701172}]"
      ]
     },
     "execution_count": 85,
     "metadata": {},
     "output_type": "execute_result"
    }
   ],
   "source": [
    "# Тестируем модель\n",
    "trainer.test(model, datamodule=data_module)"
   ]
  },
  {
   "cell_type": "code",
   "execution_count": null,
   "id": "7e4df6a2-a379-4b4f-be30-42c510e27dc8",
   "metadata": {},
   "outputs": [],
   "source": []
  }
 ],
 "metadata": {
  "kernelspec": {
   "display_name": "Python 3 (ipykernel)",
   "language": "python",
   "name": "python3"
  },
  "language_info": {
   "codemirror_mode": {
    "name": "ipython",
    "version": 3
   },
   "file_extension": ".py",
   "mimetype": "text/x-python",
   "name": "python",
   "nbconvert_exporter": "python",
   "pygments_lexer": "ipython3",
   "version": "3.8.20"
  }
 },
 "nbformat": 4,
 "nbformat_minor": 5
}
